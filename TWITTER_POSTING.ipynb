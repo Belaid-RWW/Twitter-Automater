{
 "cells": [
  {
   "cell_type": "code",
   "execution_count": 1,
   "metadata": {},
   "outputs": [
    {
     "name": "stderr",
     "output_type": "stream",
     "text": [
      "C:\\Users\\fedy_\\Anaconda3\\lib\\site-packages\\requests\\__init__.py:91: RequestsDependencyWarning: urllib3 (1.26.2) or chardet (3.0.4) doesn't match a supported version!\n",
      "  RequestsDependencyWarning)\n"
     ]
    }
   ],
   "source": [
    "from newsapi import NewsApiClient\n",
    "import datetime as dt\n",
    "import tweepy\n",
    "from selenium import webdriver\n",
    "import random\n",
    "\n",
    "newsapi = NewsApiClient(api_key='####################')\n",
    "\n",
    "data = newsapi.get_everything(q='coronavirus', language='fr', page_size=50)\n",
    "\n",
    "articles = data['articles']\n",
    "#for x,y in enumerate(articles):\n",
    " #print(y['url'])\n",
    "\n",
    "url_list = [x['url'] for x in articles]\n",
    "\n",
    "#ces tokens donnent à l'utilisateur accés aux API du twitter \n",
    "access_token = \"##################\"\n",
    "access_token_secret = \"##################\"\n",
    "\n",
    "#clé API qui identifie l'utilisateur\n",
    "consumer_key = \"#####################\"\n",
    "consumer_key_secret = \"##################\"\n",
    "\n",
    "#permet au developpeur d'avoir accés aux resources twitter\n",
    "auth = tweepy.OAuthHandler(consumer_key, consumer_key_secret)\n",
    "auth.set_access_token(access_token, access_token_secret)\n",
    "\n",
    "#permet de couvrir les resources en besoin \n",
    "api = tweepy.API(auth)\n",
    "\n",
    "status = api.update_status(random.choice(url_list))"
   ]
  },
  {
   "cell_type": "code",
   "execution_count": 5,
   "metadata": {},
   "outputs": [],
   "source": []
  }
 ],
 "metadata": {
  "kernelspec": {
   "display_name": "Python 3",
   "language": "python",
   "name": "python3"
  },
  "language_info": {
   "codemirror_mode": {
    "name": "ipython",
    "version": 3
   },
   "file_extension": ".py",
   "mimetype": "text/x-python",
   "name": "python",
   "nbconvert_exporter": "python",
   "pygments_lexer": "ipython3",
   "version": "3.7.4"
  }
 },
 "nbformat": 4,
 "nbformat_minor": 2
}
